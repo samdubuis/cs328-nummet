{
 "cells": [
  {
   "cell_type": "code",
   "execution_count": 1,
   "metadata": {
    "collapsed": true
   },
   "outputs": [],
   "source": [
    "import numpy as np"
   ]
  },
  {
   "cell_type": "markdown",
   "metadata": {},
   "source": [
    "## Custom operators\n",
    "\n",
    "$f(x) = x^2 + 1$"
   ]
  },
  {
   "cell_type": "code",
   "execution_count": 2,
   "metadata": {},
   "outputs": [
    {
     "data": {
      "text/plain": [
       "5"
      ]
     },
     "execution_count": 2,
     "metadata": {},
     "output_type": "execute_result"
    }
   ],
   "source": [
    "def add(a,b):\n",
    "    v = a + b\n",
    "    return v\n",
    "\n",
    "def mul(a,b):\n",
    "    v = a * b\n",
    "    return v\n",
    "\n",
    "def f(x):\n",
    "    return add(mul(x, x), 1)\n",
    "\n",
    "x = 2\n",
    "f(x)"
   ]
  },
  {
   "cell_type": "markdown",
   "metadata": {},
   "source": [
    "## Operators with derivatives"
   ]
  },
  {
   "cell_type": "code",
   "execution_count": 6,
   "metadata": {},
   "outputs": [
    {
     "data": {
      "text/plain": [
       "array([5, 4])"
      ]
     },
     "execution_count": 6,
     "metadata": {},
     "output_type": "execute_result"
    }
   ],
   "source": [
    "V = 0\n",
    "D = 1\n",
    "\n",
    "def constant(c):\n",
    "    return np.array([c, 0])\n",
    "\n",
    "def variable(x):\n",
    "    return np.array([x, 1])\n",
    "\n",
    "def add(a,b):\n",
    "    v = a[V] + b[V]\n",
    "    d = a[D] + b[D]\n",
    "    return  np.array([v, d])\n",
    "\n",
    "def mul(a,b):\n",
    "    v = a[V] * b[V]\n",
    "    d = a[D] * b[V] + a[V] * b[D]\n",
    "    return  np.array([v, d])\n",
    "\n",
    "def f(x):\n",
    "    v = variable(x)\n",
    "    return add(mul(v, v), constant(1))\n",
    "\n",
    "f(2)"
   ]
  },
  {
   "cell_type": "markdown",
   "metadata": {},
   "source": []
  },
  {
   "cell_type": "markdown",
   "metadata": {},
   "source": [
    "## The variable class"
   ]
  },
  {
   "cell_type": "code",
   "execution_count": 7,
   "metadata": {},
   "outputs": [
    {
     "data": {
      "text/plain": [
       "5"
      ]
     },
     "execution_count": 7,
     "metadata": {},
     "output_type": "execute_result"
    }
   ],
   "source": [
    "# general definition of a function, here f(x): x*x+1\n",
    "def f(x):\n",
    "    return x*x + 1\n",
    "f(2)"
   ]
  },
  {
   "cell_type": "code",
   "execution_count": 15,
   "metadata": {},
   "outputs": [
    {
     "data": {
      "text/plain": [
       "(5, 4)"
      ]
     },
     "execution_count": 15,
     "metadata": {},
     "output_type": "execute_result"
    }
   ],
   "source": [
    "# A class implementing automatic differentiation for addition and multiplication\n",
    "class Variable:\n",
    "    def __init__(self,v,d=1):\n",
    "        self.v = v\n",
    "        self.d = d\n",
    "\n",
    "    def __add__(self, b):\n",
    "        if not isinstance(b,Variable):\n",
    "            b = Variable(b,0)\n",
    "        v = self.v + b.v\n",
    "        d = self.d + b.d\n",
    "        return Variable(v, d)\n",
    "\n",
    "    def __mul__(self, b):\n",
    "        if not isinstance(b,Variable):\n",
    "            b = Variable(b,0)\n",
    "        v = self.v*b.v\n",
    "        d = self.d*b.v + self.v*b.d\n",
    "        return Variable(v, d)\n",
    "\n",
    "y = f(Variable(2))\n",
    "(y.v,y.d)"
   ]
  },
  {
   "cell_type": "code",
   "execution_count": null,
   "metadata": {
    "collapsed": true
   },
   "outputs": [],
   "source": []
  }
 ],
 "metadata": {
  "kernelspec": {
   "display_name": "Python 3",
   "language": "python",
   "name": "python3"
  },
  "language_info": {
   "codemirror_mode": {
    "name": "ipython",
    "version": 3
   },
   "file_extension": ".py",
   "mimetype": "text/x-python",
   "name": "python",
   "nbconvert_exporter": "python",
   "pygments_lexer": "ipython3",
   "version": "3.6.2"
  }
 },
 "nbformat": 4,
 "nbformat_minor": 2
}
